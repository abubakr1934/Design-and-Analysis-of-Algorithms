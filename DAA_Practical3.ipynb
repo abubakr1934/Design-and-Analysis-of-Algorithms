{
  "nbformat": 4,
  "nbformat_minor": 0,
  "metadata": {
    "colab": {
      "provenance": []
    },
    "kernelspec": {
      "name": "python3",
      "display_name": "Python 3"
    },
    "language_info": {
      "name": "python"
    }
  },
  "cells": [
    {
      "cell_type": "markdown",
      "source": [
        "Using minimum weight\n",
        "\n",
        "\n"
      ],
      "metadata": {
        "id": "xmPxDM-3GXG8"
      }
    },
    {
      "cell_type": "code",
      "execution_count": 44,
      "metadata": {
        "colab": {
          "base_uri": "https://localhost:8080/"
        },
        "id": "-MX9de0t_kxJ",
        "outputId": "9820e84e-18ec-4995-de00-7ee83aa98b7c"
      },
      "outputs": [
        {
          "output_type": "stream",
          "name": "stdout",
          "text": [
            "The x table:\n",
            "1.00\n",
            "1.00\n",
            "1.00\n",
            "1.00\n",
            "0.00\n",
            "0.00\n",
            "1.00\n",
            "0.00\n",
            "0.00\n",
            "0.00\n",
            "0.56\n",
            "1.00\n",
            "1.00\n",
            "1.00\n",
            "1.00\n",
            "1.00\n",
            "1.00\n",
            "1.00\n",
            "1.00\n",
            "1.00\n",
            "1.00\n",
            "1.00\n",
            "1.00\n",
            "1.00\n",
            "1.00\n",
            "1.00\n",
            "1.00\n",
            "1.00\n",
            "1.00\n",
            "0.00\n",
            "1.00\n",
            "1.00\n",
            "1.00\n",
            "1.00\n",
            "1.00\n",
            "1.00\n",
            "0.00\n",
            "1.00\n",
            "0.00\n",
            "1.00\n",
            "0.00\n",
            "0.00\n",
            "1.00\n",
            "0.00\n",
            "1.00\n",
            "0.00\n",
            "1.00\n",
            "0.00\n",
            "1.00\n",
            "1.00\n",
            "Weight: 850.00\n",
            "Profit: 6265.75\n"
          ]
        }
      ],
      "source": [
        "def knapsack(p, w, Cap):\n",
        "    n = len(p)#finidng number of elements in the bag\n",
        "    weight = 0\n",
        "    profit = 0\n",
        "    x = [0.0] * n#initialising a list of n size with zero\n",
        "\n",
        "    while weight < Cap:\n",
        "        minW = float('inf')#min weight\n",
        "        mw = None  # max Profit index among left\n",
        "\n",
        "        for i in range(n):\n",
        "            if x[i] == 0.0 and w[i] < minW:\n",
        "                mw = i#storing the index of min weight\n",
        "                minW = w[i]#selecting the min weight\n",
        "\n",
        "        if weight + w[mw] < Cap:\n",
        "            x[mw] = 1.0#if can enter\n",
        "        else:\n",
        "            x[mw] = (Cap - weight) / w[mw]#if not then partial\n",
        "\n",
        "        weight = weight + w[mw] * x[mw]#adding any partials\n",
        "        profit = profit + p[mw] * x[mw]\n",
        "\n",
        "    return x, weight, profit\n",
        "\n",
        "if __name__ == \"__main__\":\n",
        "    p = [ 360, 83, 59, 130, 431, 67, 230, 52, 93, 125, 670, 892, 600, 38, 48, 147, 78, 256, 63, 17, 120,164, 432, 35, 92, 110, 22, 42, 50, 323, 514, 28, 87, 73, 78, 15, 26, 78, 210, 36, 85, 189, 274,43, 33, 10, 19, 389, 276, 312 ]\n",
        "    w = [7, 0, 30, 22, 80, 94, 11, 81, 70, 64, 59, 18, 0, 36, 3, 8, 15, 42, 9, 0, 42, 47, 52, 32, 26, 48, 55,6, 29, 84, 2, 4, 18, 56, 7, 29, 93, 44, 71, 3, 86, 66, 31, 65, 0, 79, 20, 65, 52, 13]\n",
        "    Cap = 850\n",
        "\n",
        "    x, weight, profit = knapsack(p, w, Cap)\n",
        "\n",
        "    print(\"The x table:\")\n",
        "    for i in range(len(x)):\n",
        "        print(\"{:.2f}\".format(x[i]))\n",
        "\n",
        "    print(\"Weight: {:.2f}\".format(weight))\n",
        "    print(\"Profit: {:.2f}\".format(profit))\n"
      ]
    },
    {
      "cell_type": "code",
      "source": [
        "import time\n",
        "start=time.perf_counter()\n",
        "knapsack(p, w, Cap)\n",
        "end= time.perf_counter()\n",
        "timetaken=end-start\n",
        "print(timetaken)\n"
      ],
      "metadata": {
        "colab": {
          "base_uri": "https://localhost:8080/"
        },
        "id": "q8-mdM22AW1O",
        "outputId": "56229828-20e4-4f3b-e970-cbdf3a802d12"
      },
      "execution_count": 45,
      "outputs": [
        {
          "output_type": "stream",
          "name": "stdout",
          "text": [
            "0.00045505100024456624\n"
          ]
        }
      ]
    },
    {
      "cell_type": "code",
      "source": [
        "count=0;\n",
        "n=len(p);\n",
        "for i in range(n):\n",
        "  if(x[i]==1):\n",
        "    count=count+1\n",
        "    print(i,\"-\",p[i])\n",
        "\n",
        "print(\"number of object entered completely in the bag \",count)"
      ],
      "metadata": {
        "colab": {
          "base_uri": "https://localhost:8080/"
        },
        "id": "-_zSoAswHO9G",
        "outputId": "d2ed6b69-7024-4652-cfc4-542b0983ef4e"
      },
      "execution_count": 46,
      "outputs": [
        {
          "output_type": "stream",
          "name": "stdout",
          "text": [
            "0 - 360\n",
            "1 - 83\n",
            "2 - 59\n",
            "3 - 130\n",
            "6 - 230\n",
            "11 - 892\n",
            "12 - 600\n",
            "13 - 38\n",
            "14 - 48\n",
            "15 - 147\n",
            "16 - 78\n",
            "17 - 256\n",
            "18 - 63\n",
            "19 - 17\n",
            "20 - 120\n",
            "21 - 164\n",
            "22 - 432\n",
            "23 - 35\n",
            "24 - 92\n",
            "25 - 110\n",
            "26 - 22\n",
            "27 - 42\n",
            "28 - 50\n",
            "30 - 514\n",
            "31 - 28\n",
            "32 - 87\n",
            "33 - 73\n",
            "34 - 78\n",
            "35 - 15\n",
            "37 - 78\n",
            "39 - 36\n",
            "42 - 274\n",
            "44 - 33\n",
            "46 - 19\n",
            "48 - 276\n",
            "49 - 312\n",
            "number of object entered completely in the bag  36\n"
          ]
        }
      ]
    },
    {
      "cell_type": "code",
      "source": [
        "n = len(p)\n",
        "for i in range(n):\n",
        "    if x[i] != 0.0 and x[i] != 1.0:\n",
        "        print(i, \"-\", (p[i]*x[i]),\"-\",x[i])\n"
      ],
      "metadata": {
        "colab": {
          "base_uri": "https://localhost:8080/"
        },
        "id": "smOv9tMcJBbw",
        "outputId": "7be99758-ae0f-45cb-855d-48abce401f3d"
      },
      "execution_count": 47,
      "outputs": [
        {
          "output_type": "stream",
          "name": "stdout",
          "text": [
            "10 - 374.74576271186436 - 0.559322033898305\n"
          ]
        }
      ]
    },
    {
      "cell_type": "markdown",
      "source": [
        "maximum profit\n"
      ],
      "metadata": {
        "id": "m6ZSdHL2KiBV"
      }
    },
    {
      "cell_type": "code",
      "source": [
        "def knapsack_max_profit(p, w, Cap):\n",
        "    n = len(p)\n",
        "    weight = 0\n",
        "    profit = 0\n",
        "    x = [0.0] * n\n",
        "\n",
        "    while weight < Cap:\n",
        "        maxP = 0#initialising zero\n",
        "        mp = None  # max Profit index among left\n",
        "\n",
        "        for i in range(n):\n",
        "            if x[i] == 0.0 and p[i] > maxP:#\n",
        "                mp = i#storing index\n",
        "                maxP = p[i]#storing max\n",
        "\n",
        "        if weight + w[mp] < Cap:\n",
        "            x[mp] = 1.0\n",
        "        else:\n",
        "            x[mp] = (Cap - weight) / w[mp]\n",
        "\n",
        "        weight = weight + w[mp] * x[mp]\n",
        "        profit = profit + p[mp] * x[mp]\n",
        "\n",
        "    return x, weight, profit\n",
        "\n",
        "if __name__ == \"__main__\":\n",
        "  p1 = [ 360, 83, 59, 130, 431, 67, 230, 52, 93, 125, 670, 892, 600, 38, 48, 147, 78, 256, 63, 17, 120,164, 432, 35, 92, 110, 22, 42, 50, 323, 514, 28, 87, 73, 78, 15, 26, 78, 210, 36, 85, 189, 274,43, 33, 10, 19, 389, 276, 312 ]\n",
        "  w1 = [7, 0, 30, 22, 80, 94, 11, 81, 70, 64, 59, 18, 0, 36, 3, 8, 15, 42, 9, 0, 42, 47, 52, 32, 26, 48, 55,6, 29, 84, 2, 4, 18, 56, 7, 29, 93, 44, 71, 3, 86, 66, 31, 65, 0, 79, 20, 65, 52, 13]\n",
        "  Cap1 = 850\n",
        "\n",
        "  x1, weight1, profit1 = knapsack_max_profit(p1, w1, Cap1)\n",
        "\n",
        "print(\"The x1 table:\")\n",
        "for i in range(len(x1)):\n",
        "    print(\"{:.2f}\".format(x1[i]))\n",
        "\n",
        "print(\"Weight: {:.2f}\".format(weight1))\n",
        "print(\"Profit: {:.2f}\".format(profit1))\n"
      ],
      "metadata": {
        "colab": {
          "base_uri": "https://localhost:8080/"
        },
        "id": "d-m2qj6nJ8aC",
        "outputId": "604dd0a4-8e80-4cb4-e6dc-225f8c261a02"
      },
      "execution_count": 48,
      "outputs": [
        {
          "output_type": "stream",
          "name": "stdout",
          "text": [
            "The x1 table:\n",
            "1.00\n",
            "0.00\n",
            "0.00\n",
            "1.00\n",
            "1.00\n",
            "0.00\n",
            "1.00\n",
            "0.00\n",
            "0.00\n",
            "1.00\n",
            "1.00\n",
            "1.00\n",
            "1.00\n",
            "0.00\n",
            "0.00\n",
            "1.00\n",
            "0.00\n",
            "1.00\n",
            "0.00\n",
            "0.00\n",
            "1.00\n",
            "1.00\n",
            "1.00\n",
            "0.00\n",
            "0.00\n",
            "0.29\n",
            "0.00\n",
            "0.00\n",
            "0.00\n",
            "1.00\n",
            "1.00\n",
            "0.00\n",
            "0.00\n",
            "0.00\n",
            "0.00\n",
            "0.00\n",
            "0.00\n",
            "0.00\n",
            "1.00\n",
            "0.00\n",
            "0.00\n",
            "1.00\n",
            "1.00\n",
            "0.00\n",
            "0.00\n",
            "0.00\n",
            "0.00\n",
            "1.00\n",
            "1.00\n",
            "1.00\n",
            "Weight: 850.00\n",
            "Profit: 7076.08\n"
          ]
        }
      ]
    },
    {
      "cell_type": "code",
      "source": [
        "import time\n",
        "start=time.perf_counter()\n",
        "knapsack_max_profit(p1, w1, Cap1)\n",
        "end= time.perf_counter()\n",
        "timetaken=end-start\n",
        "print(timetaken)"
      ],
      "metadata": {
        "colab": {
          "base_uri": "https://localhost:8080/"
        },
        "id": "Kv4cpuufL_ia",
        "outputId": "7fcae739-f024-44d2-c206-b946d317f4c0"
      },
      "execution_count": 49,
      "outputs": [
        {
          "output_type": "stream",
          "name": "stdout",
          "text": [
            "0.0006964630001675687\n"
          ]
        }
      ]
    },
    {
      "cell_type": "code",
      "source": [
        "count1=0;\n",
        "n=len(p1);\n",
        "for i in range(n):\n",
        "  if(x1[i]==1):\n",
        "    count1=count1+1\n",
        "    print(i,\"-\",p1[i])\n",
        "\n",
        "print(\"number of object entered completely in the bag \",count1)"
      ],
      "metadata": {
        "colab": {
          "base_uri": "https://localhost:8080/"
        },
        "id": "j-UV2PgJMydP",
        "outputId": "a212c551-47c2-458b-d1a8-01b5ebe8f12f"
      },
      "execution_count": 50,
      "outputs": [
        {
          "output_type": "stream",
          "name": "stdout",
          "text": [
            "0 - 360\n",
            "3 - 130\n",
            "4 - 431\n",
            "6 - 230\n",
            "9 - 125\n",
            "10 - 670\n",
            "11 - 892\n",
            "12 - 600\n",
            "15 - 147\n",
            "17 - 256\n",
            "20 - 120\n",
            "21 - 164\n",
            "22 - 432\n",
            "29 - 323\n",
            "30 - 514\n",
            "38 - 210\n",
            "41 - 189\n",
            "42 - 274\n",
            "47 - 389\n",
            "48 - 276\n",
            "49 - 312\n",
            "number of object entered completely in the bag  21\n"
          ]
        }
      ]
    },
    {
      "cell_type": "code",
      "source": [
        "n = len(p1)#partially one\n",
        "for i in range(n):\n",
        "    if x1[i] != 0.0 and x1[i] != 1.0:\n",
        "        print(i, \"-\", (p1[i]*x1[i]),\"-\",x1[i])\n"
      ],
      "metadata": {
        "colab": {
          "base_uri": "https://localhost:8080/"
        },
        "id": "6VBlUqRgM5cy",
        "outputId": "411bd710-ae6f-488a-a141-4f3105b3da57"
      },
      "execution_count": 51,
      "outputs": [
        {
          "output_type": "stream",
          "name": "stdout",
          "text": [
            "25 - 32.083333333333336 - 0.2916666666666667\n"
          ]
        }
      ]
    },
    {
      "cell_type": "markdown",
      "source": [
        "for maximum p/w ratio\n"
      ],
      "metadata": {
        "id": "gWZQazurNfRT"
      }
    },
    {
      "cell_type": "code",
      "source": [
        "def knapsack_max_profit_ratio(p, w, Cap):\n",
        "    n = len(p)\n",
        "    weight = 0\n",
        "    profit = 0\n",
        "    x = [0.0] * n\n",
        "\n",
        "    while weight < Cap:\n",
        "        maxR = 0\n",
        "        mr = None  # max Profit index among left\n",
        "\n",
        "        for i in range(n):\n",
        "            if x[i] == 0.0 and (p[i] / w[i]) > maxR:\n",
        "                mr = i\n",
        "                maxR = p[i] / w[i]\n",
        "\n",
        "        if weight + w[mr] <= Cap:\n",
        "            x[mr] = 1.0\n",
        "        else:\n",
        "            x[mr] = (Cap - weight) / w[mr]\n",
        "\n",
        "        weight = weight + w[mr] * x[mr]\n",
        "        profit = profit + p[mr] * x[mr]\n",
        "\n",
        "    return x, weight, profit\n",
        "\n",
        "if __name__ == \"__main__\":\n",
        "    p2 = [360, 83, 59, 130, 431, 67, 230, 52, 93, 125, 670, 892, 600, 38, 48, 147, 78, 256, 63, 17, 120, 164, 432, 35, 92, 110, 22, 42, 50, 323, 514, 28, 87, 73, 78, 15, 26, 78, 210, 36, 85, 189, 274, 43, 33, 10, 19, 389, 276, 312]\n",
        "    w2 = [7, 1, 30, 22, 80, 94, 11, 81, 70, 64, 59, 18, 1, 36, 3, 8, 15, 42, 9, 1, 42, 47, 52, 32, 26, 48, 55, 6, 29, 84, 2, 4, 18, 56, 7, 29, 93, 44, 71, 3, 86, 66, 31, 65, 1, 79, 20, 65, 52, 13]\n",
        "    Cap2 = 850\n",
        "\n",
        "    x2, weight2, profit2 = knapsack_max_profit_ratio(p2, w2, Cap2)\n",
        "\n",
        "    print(\"The x2 table:\")\n",
        "    for i in range(len(x2)):\n",
        "        print(\"{:.2f}\".format(x2[i]))\n",
        "\n",
        "    print(\"Weight: {:.2f}\".format(weight2))\n",
        "    print(\"Profit: {:.2f}\".format(profit2))\n"
      ],
      "metadata": {
        "colab": {
          "base_uri": "https://localhost:8080/"
        },
        "id": "9fMwymRxNACA",
        "outputId": "611bda66-745c-4b94-fcc9-69ff6b74873b"
      },
      "execution_count": 57,
      "outputs": [
        {
          "output_type": "stream",
          "name": "stdout",
          "text": [
            "The x2 table:\n",
            "1.00\n",
            "1.00\n",
            "0.00\n",
            "1.00\n",
            "1.00\n",
            "0.00\n",
            "1.00\n",
            "0.00\n",
            "0.00\n",
            "0.00\n",
            "1.00\n",
            "1.00\n",
            "1.00\n",
            "0.00\n",
            "1.00\n",
            "1.00\n",
            "1.00\n",
            "1.00\n",
            "1.00\n",
            "1.00\n",
            "0.60\n",
            "1.00\n",
            "1.00\n",
            "0.00\n",
            "1.00\n",
            "0.00\n",
            "0.00\n",
            "1.00\n",
            "0.00\n",
            "1.00\n",
            "1.00\n",
            "1.00\n",
            "1.00\n",
            "0.00\n",
            "1.00\n",
            "0.00\n",
            "0.00\n",
            "0.00\n",
            "1.00\n",
            "1.00\n",
            "0.00\n",
            "1.00\n",
            "1.00\n",
            "0.00\n",
            "1.00\n",
            "0.00\n",
            "0.00\n",
            "1.00\n",
            "1.00\n",
            "1.00\n",
            "Weight: 850.00\n",
            "Profit: 7555.43\n"
          ]
        }
      ]
    },
    {
      "cell_type": "code",
      "source": [
        "import time\n",
        "start=time.perf_counter()\n",
        "knapsack_max_profit(p2, w2, Cap2)\n",
        "end= time.perf_counter()\n",
        "timetaken=end-start\n",
        "print(timetaken)"
      ],
      "metadata": {
        "colab": {
          "base_uri": "https://localhost:8080/"
        },
        "id": "ieTEkS7TPwS6",
        "outputId": "8fb4eac7-63bb-4607-d4c8-f69956458424"
      },
      "execution_count": 58,
      "outputs": [
        {
          "output_type": "stream",
          "name": "stdout",
          "text": [
            "0.00018264099981024629\n"
          ]
        }
      ]
    },
    {
      "cell_type": "code",
      "source": [
        "count2=0;\n",
        "n=len(p2);\n",
        "for i in range(n):\n",
        "  if(x2[i]==1):\n",
        "    count2=count2+1\n",
        "    print(i,\"-\",p2[i])\n",
        "\n",
        "print(\"number of object entered completely in the bag \",count2)"
      ],
      "metadata": {
        "colab": {
          "base_uri": "https://localhost:8080/"
        },
        "id": "nwhVQL-hP5PJ",
        "outputId": "e739109f-a345-4538-cdbe-e290076f4702"
      },
      "execution_count": 59,
      "outputs": [
        {
          "output_type": "stream",
          "name": "stdout",
          "text": [
            "0 - 360\n",
            "1 - 83\n",
            "3 - 130\n",
            "4 - 431\n",
            "6 - 230\n",
            "10 - 670\n",
            "11 - 892\n",
            "12 - 600\n",
            "14 - 48\n",
            "15 - 147\n",
            "16 - 78\n",
            "17 - 256\n",
            "18 - 63\n",
            "19 - 17\n",
            "21 - 164\n",
            "22 - 432\n",
            "24 - 92\n",
            "27 - 42\n",
            "29 - 323\n",
            "30 - 514\n",
            "31 - 28\n",
            "32 - 87\n",
            "34 - 78\n",
            "38 - 210\n",
            "39 - 36\n",
            "41 - 189\n",
            "42 - 274\n",
            "44 - 33\n",
            "47 - 389\n",
            "48 - 276\n",
            "49 - 312\n",
            "number of object entered completely in the bag  31\n"
          ]
        }
      ]
    },
    {
      "cell_type": "code",
      "source": [
        "n = len(p2)#partially one\n",
        "for i in range(n):\n",
        "    if x2[i] != 0.0 and x2[i] != 1.0:\n",
        "        print(i, \"-\", (p2[i]*x2[i]),\"-\",x2[i])\n"
      ],
      "metadata": {
        "colab": {
          "base_uri": "https://localhost:8080/"
        },
        "id": "1jo15FVzQdsN",
        "outputId": "ae8b8bfc-b9ef-41c1-c656-c11e5233551e"
      },
      "execution_count": 60,
      "outputs": [
        {
          "output_type": "stream",
          "name": "stdout",
          "text": [
            "20 - 71.42857142857143 - 0.5952380952380952\n"
          ]
        }
      ]
    },
    {
      "cell_type": "code",
      "source": [],
      "metadata": {
        "id": "st0GbGLFQ0BX"
      },
      "execution_count": 60,
      "outputs": []
    }
  ]
}