{
  "nbformat": 4,
  "nbformat_minor": 0,
  "metadata": {
    "colab": {
      "provenance": []
    },
    "kernelspec": {
      "name": "python3",
      "display_name": "Python 3"
    },
    "language_info": {
      "name": "python"
    }
  },
  "cells": [
    {
      "cell_type": "markdown",
      "source": [
        "Name:Mohammad Abubakr Khanooni\n",
        "\n",
        "Section A CSE-5Th semester roll no 27\n",
        "\n",
        "DAA Practical 4\n"
      ],
      "metadata": {
        "id": "RaVaP5MoLX5y"
      }
    },
    {
      "cell_type": "markdown",
      "source": [
        "activity selection problem"
      ],
      "metadata": {
        "id": "0Ff22Qe2Pz9e"
      }
    },
    {
      "cell_type": "code",
      "execution_count": 1,
      "metadata": {
        "id": "1aWn7ixCLT2O"
      },
      "outputs": [],
      "source": [
        "def greedy_single_machine_scheduling(profit, start_time, deadline):\n",
        "    n = len(profit)\n",
        "    jobs = [(profit[i], start_time[i], deadline[i]) for i in range(n)]\n",
        "\n",
        "    # Sort the jobs by their start times in ascending order\n",
        "    jobs.sort(key=lambda x: x[1])\n",
        "\n",
        "    selected_jobs = []  # List to store the selected jobs\n",
        "\n",
        "    # Select the first job with the earliest start time\n",
        "    selected_jobs.append(jobs[0])\n",
        "\n",
        "    current_time = jobs[0][2]  # Set the current time to the deadline of the first job\n",
        "    total_profit = jobs[0][0]  # Initialize the total profit\n",
        "\n",
        "    # Iterate through the remaining jobs\n",
        "    for i in range(1, n):\n",
        "        job = jobs[i]\n",
        "        if job[2] >= current_time:\n",
        "            # If the job is compatible with the current schedule, select it\n",
        "            selected_jobs.append(job)\n",
        "            current_time = job[2]  # Update the current time to the deadline of the selected job\n",
        "            total_profit += job[0]  # Add the profit of the selected job\n",
        "\n",
        "    return selected_jobs, total_profit\n"
      ]
    },
    {
      "cell_type": "code",
      "source": [
        "s=[1,3,0,5,3,5,6,8,8,2,12]\n",
        "d=[4,5,6,7,9,9,10,11,12,14,16]\n",
        "p=[10,15,14,12,20,30,32,28,30,40,45]\n",
        "\n",
        "sel_jobs,profit=greedy_single_machine_scheduling(p,s,d)\n",
        "print(sel_jobs,\" \",profit)"
      ],
      "metadata": {
        "colab": {
          "base_uri": "https://localhost:8080/"
        },
        "id": "F1SSpL7tL85O",
        "outputId": "76f14ca9-b32e-4c3f-84f5-e06422dc71ba"
      },
      "execution_count": 3,
      "outputs": [
        {
          "output_type": "stream",
          "name": "stdout",
          "text": [
            "[(14, 0, 6), (40, 2, 14), (45, 12, 16)]   99\n"
          ]
        }
      ]
    },
    {
      "cell_type": "markdown",
      "source": [
        "possible equal max sum\n",
        "\n"
      ],
      "metadata": {
        "id": "sy_M_uDvP4EB"
      }
    },
    {
      "cell_type": "code",
      "source": [
        "def maxSum(stack1, stack2, stack3, n1, n2, n3):\n",
        "    sum1, sum2, sum3 = 0, 0, 0\n",
        "\n",
        "    for i in range(n1):#sum finding out\n",
        "        sum1 += stack1[i]\n",
        "\n",
        "    for i in range(n2):\n",
        "        sum2 += stack2[i]\n",
        "\n",
        "    for i in range(n3):\n",
        "        sum3 += stack3[i]\n",
        "\n",
        "    top1, top2, top3 = 0, 0, 0\n",
        "    ans = 0\n",
        "    while True:\n",
        "        # If any stack is empty\n",
        "        if top1 == n1 or top2 == n2 or top3 == n3:\n",
        "            return 0\n",
        "\n",
        "\n",
        "        if sum1 == sum2 and sum2 == sum3:#if found equal\n",
        "            return sum1\n",
        "\n",
        "        if sum1 >= sum2 and sum1 >= sum3:#checking condn\n",
        "            sum1 -= stack1[top1]#when popping removing that value from sum\n",
        "            top1 += 1\n",
        "        elif sum2 >= sum1 and sum2 >= sum3:\n",
        "            sum2 -= stack2[top2]\n",
        "            top2 += 1\n",
        "        elif sum3 >= sum2 and sum3 >= sum1:\n",
        "            sum3 -= stack3[top3]\n",
        "            top3 += 1\n",
        "\n",
        "\n",
        "stack1 = [5,8,5,3]\n",
        "stack2 = [5,6,9,4,2,2]\n",
        "stack3 = [5,3,2,1,2]\n",
        "\n",
        "n1 = len(stack1)\n",
        "n2 = len(stack2)\n",
        "n3 = len(stack3)\n",
        "\n",
        "print(maxSum(stack1, stack2, stack3, n1, n2, n3))\n",
        "\n"
      ],
      "metadata": {
        "colab": {
          "base_uri": "https://localhost:8080/"
        },
        "id": "mA7CL7KaOFKh",
        "outputId": "8d0b78ff-790a-4772-e3e1-88ee0ece6819"
      },
      "execution_count": 8,
      "outputs": [
        {
          "output_type": "stream",
          "name": "stdout",
          "text": [
            "8\n"
          ]
        }
      ]
    },
    {
      "cell_type": "code",
      "source": [],
      "metadata": {
        "id": "iMCQJCq-jS5O"
      },
      "execution_count": null,
      "outputs": []
    }
  ]
}