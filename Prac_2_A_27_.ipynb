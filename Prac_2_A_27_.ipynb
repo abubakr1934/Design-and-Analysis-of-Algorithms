{
  "nbformat": 4,
  "nbformat_minor": 0,
  "metadata": {
    "colab": {
      "provenance": []
    },
    "kernelspec": {
      "name": "python3",
      "display_name": "Python 3"
    },
    "language_info": {
      "name": "python"
    }
  },
  "cells": [
    {
      "cell_type": "markdown",
      "source": [
        "Name:Mohammad Abubakr Khanooni\n",
        "\n",
        "roll no 27\n",
        "\n",
        "section A 3rd year cse\n"
      ],
      "metadata": {
        "id": "S5S3BJMSomya"
      }
    },
    {
      "cell_type": "markdown",
      "source": [
        "Aim: Construction of Minimum Spanning Tree\n",
        "Problem Statement: A telecommunications organization has offices spanned across multiple\n",
        "locations around the globe. It has to use leased phone lines for connecting all these offices with\n",
        "each other. The organization, wants to use minimum cost for connecting all its offices. This\n",
        "requires that all the offices should be connected using a minimum number of leased lines so as to\n",
        "reduce the effective cost.\n",
        "A. Consider the following for deciding connections in same state in India:\n",
        "i. Find the latitude and longitude of cities in same state. Consider 4 to 6 cities.\n",
        "ii. Calculate the cost of connecting each pair of offices by computing the distance\n",
        "between different pair of different cities (as considered in part A) and construct a\n",
        "fully connected graph.\n",
        "iii. Compute a minimum spanning tree using either Prims or Kruskals Method to find the\n",
        "cost of connecting offices in different cities.\n",
        "B. Repeat the above for cities in different states."
      ],
      "metadata": {
        "id": "DZIACRqty7XH"
      }
    },
    {
      "cell_type": "markdown",
      "source": [
        "###TESTCASES GENERATION\n"
      ],
      "metadata": {
        "id": "IOUbokm6j7Iy"
      }
    },
    {
      "cell_type": "code",
      "source": [
        "from geopy.geocoders import Nominatim\n",
        "geolocator = Nominatim(user_agent=\"Prim_57\")\n",
        "s1=\"Nagpur\"\n",
        "s2=\"Mumbai\"\n",
        "s3=\"Pune\"\n",
        "s4=\"Akola\"\n",
        "location_1=geolocator.geocode(s1)\n",
        "location_2=geolocator.geocode(s2)\n",
        "location_3=geolocator.geocode(s3)\n",
        "location_4=geolocator.geocode(s4)\n",
        "location_5=geolocator.geocode(\"Amravati\")\n",
        "location_6=geolocator.geocode(\"Akola\")\n",
        "location_7=geolocator.geocode(\"Delhi\")\n",
        "location_8=geolocator.geocode(\"Kolkata\")\n",
        "location_9=geolocator.geocode(\"Chennai\")\n",
        "location_10=geolocator.geocode(\"Shimla\")#getting the lattitude and longitude in the location variable\n",
        "location_11=geolocator.geocode(\"Bhopal\")\n",
        "\n",
        "Nagpur=(location_1.latitude,location_1.longitude)\n",
        "Mumbai=(location_2.latitude,location_2.longitude)#will split lattitude and longitude\n",
        "Pune=(location_3.latitude,location_3.longitude)\n",
        "Akola=(location_4.latitude,location_4.longitude)\n",
        "Amravati=(location_5.latitude,location_5.longitude)\n",
        "Thane=(location_6.latitude,location_6.longitude)\n",
        "Delhi=(location_7.latitude,location_7.longitude)\n",
        "Kolkata=(location_8.latitude,location_8.longitude)\n",
        "Chennai=(location_9.latitude,location_9.longitude)\n",
        "Shimla=(location_10.latitude,location_10.longitude)\n",
        "Bhopal=(location_11.latitude,location_11.longitude)"
      ],
      "metadata": {
        "id": "qWKCvwfXj9Gt"
      },
      "execution_count": null,
      "outputs": []
    },
    {
      "cell_type": "code",
      "source": [
        "from geopy.distance import geodesic\n",
        "\n",
        "d1=geodesic(Nagpur,Mumbai).miles#distance between the two specifies cities\n",
        "print(d1)\n",
        "d2=geodesic(Nagpur,Pune).miles\n",
        "print(d2)\n",
        "d3=geodesic(Nagpur,Akola).miles\n",
        "print(d3)"
      ],
      "metadata": {
        "colab": {
          "base_uri": "https://localhost:8080/"
        },
        "id": "7G3wVxbmEmOI",
        "outputId": "cf06d594-9af6-4973-c61c-a61fc77cbefb"
      },
      "execution_count": null,
      "outputs": [
        {
          "output_type": "stream",
          "name": "stdout",
          "text": [
            "427.50202366902516\n",
            "385.2763086761522\n",
            "131.23006286215718\n"
          ]
        }
      ]
    },
    {
      "cell_type": "markdown",
      "source": [
        "###INTERSTATE 4 CITIES"
      ],
      "metadata": {
        "id": "zQybjmBwkLYk"
      }
    },
    {
      "cell_type": "code",
      "source": [
        "grid=[]\n",
        "city=[Nagpur,Mumbai,Pune,Akola]\n",
        "for i in range(0,4):\n",
        "  temp=[]\n",
        "  for j in range(0,4):\n",
        "    if(i==j):#when same city\n",
        "     temp.append(9999999999)\n",
        "    else:#other city\n",
        "     temp.append(geodesic(city[i],city[j]).miles)\n",
        "  grid.append(temp)\n",
        "print(grid)\n"
      ],
      "metadata": {
        "colab": {
          "base_uri": "https://localhost:8080/"
        },
        "id": "06JxpI0jGIs7",
        "outputId": "184a4027-7719-40b0-a230-f849f993267f"
      },
      "execution_count": null,
      "outputs": [
        {
          "output_type": "stream",
          "name": "stdout",
          "text": [
            "[[9999999999, 427.50202366902516, 385.2763086761522, 131.23006286215718], [427.50202366902516, 9999999999, 74.55029367126821, 297.17866813221264], [385.2763086761522, 74.55029367126821, 9999999999, 260.14513015746394], [131.23006286215718, 297.17866813221264, 260.14513015746394, 9999999999]]\n"
          ]
        }
      ]
    },
    {
      "cell_type": "markdown",
      "source": [
        "###INTERSTATE 5 CITIES\n"
      ],
      "metadata": {
        "id": "H8W8qnBTkPn2"
      }
    },
    {
      "cell_type": "code",
      "source": [
        "grid_1=[]\n",
        "city=[Nagpur,Mumbai,Pune,Akola,Amravati]\n",
        "for i in range(0,5):\n",
        "  temp=[]\n",
        "  for j in range(0,5):\n",
        "    if(i==j):\n",
        "     temp.append(99999999)\n",
        "    else:\n",
        "     temp.append(geodesic(city[i],city[j]).miles)\n",
        "  grid_1.append(temp)\n",
        "print(grid_1)"
      ],
      "metadata": {
        "colab": {
          "base_uri": "https://localhost:8080/"
        },
        "id": "YgXYIzbYLgRZ",
        "outputId": "221589b7-beaf-47df-9ce8-023d02dcac44"
      },
      "execution_count": null,
      "outputs": [
        {
          "output_type": "stream",
          "name": "stdout",
          "text": [
            "[[99999999, 427.50202366902516, 385.2763086761522, 131.23006286215718, 83.59659509103939], [427.50202366902516, 99999999, 74.55029367126821, 297.17866813221264, 345.6887033823006], [385.2763086761522, 74.55029367126821, 99999999, 260.14513015746394, 307.64437067652113], [131.23006286215718, 297.17866813221264, 260.14513015746394, 99999999, 48.512360314384125], [83.59659509103939, 345.6887033823006, 307.64437067652113, 48.512360314384125, 99999999]]\n"
          ]
        }
      ]
    },
    {
      "cell_type": "markdown",
      "source": [
        "###INTERSTATE 6 CITIES"
      ],
      "metadata": {
        "id": "fChdFBpqkaMr"
      }
    },
    {
      "cell_type": "code",
      "source": [
        "grid_2=[]\n",
        "city=[Nagpur,Mumbai,Pune,Akola,Amravati,Thane]\n",
        "for i in range(0,6):\n",
        "  temp=[]\n",
        "  for j in range(0,6):\n",
        "    if(i==j):\n",
        "     temp.append(99999999)\n",
        "    else:\n",
        "     temp.append(geodesic(city[i],city[j]).miles)\n",
        "  grid_2.append(temp)\n",
        "print(grid_2)"
      ],
      "metadata": {
        "colab": {
          "base_uri": "https://localhost:8080/"
        },
        "id": "yIpTbURdNw3L",
        "outputId": "138de4d0-c130-4ba7-c4e2-48898ffd2e98"
      },
      "execution_count": null,
      "outputs": [
        {
          "output_type": "stream",
          "name": "stdout",
          "text": [
            "[[99999999, 427.50202366902516, 385.2763086761522, 131.23006286215718, 83.59659509103939, 131.23006286215718], [427.50202366902516, 99999999, 74.55029367126821, 297.17866813221264, 345.6887033823006, 297.17866813221264], [385.2763086761522, 74.55029367126821, 99999999, 260.14513015746394, 307.64437067652113, 260.14513015746394], [131.23006286215718, 297.17866813221264, 260.14513015746394, 99999999, 48.512360314384125, 0.0], [83.59659509103939, 345.6887033823006, 307.64437067652113, 48.512360314384125, 99999999, 48.512360314384125], [131.23006286215718, 297.17866813221264, 260.14513015746394, 0.0, 48.512360314384125, 99999999]]\n"
          ]
        }
      ]
    },
    {
      "cell_type": "markdown",
      "source": [
        "### OUTERSTATE 4 CITIES"
      ],
      "metadata": {
        "id": "keKhTe5NkflP"
      }
    },
    {
      "cell_type": "code",
      "source": [
        "grid_4=[]\n",
        "city=[Nagpur,Chennai,Delhi,Kolkata]\n",
        "for i in range(0,4):\n",
        "  temp=[]\n",
        "  for j in range(0,4):\n",
        "    if(i==j):\n",
        "     temp.append(9999999)\n",
        "    else:\n",
        "     temp.append(geodesic(city[i],city[j]).miles)\n",
        "  grid_4.append(temp)\n",
        "print(grid_4)"
      ],
      "metadata": {
        "colab": {
          "base_uri": "https://localhost:8080/"
        },
        "id": "hZcBqUKUPAWg",
        "outputId": "a0cafa86-3578-4f38-f209-cdd3b42f674c"
      },
      "execution_count": null,
      "outputs": [
        {
          "output_type": "stream",
          "name": "stdout",
          "text": [
            "[[9999999, 560.2190631788583, 528.4452755108051, 604.0116160731279], [560.2190631788583, 9999999, 1087.8274555213395, 842.1449200434604], [528.4452755108051, 1087.8274555213395, 9999999, 812.8430941762666], [604.0116160731279, 842.1449200434604, 812.8430941762666, 9999999]]\n"
          ]
        }
      ]
    },
    {
      "cell_type": "markdown",
      "source": [
        "###OUTERSTATE 5 CITIES"
      ],
      "metadata": {
        "id": "cwC2nw_fkqRh"
      }
    },
    {
      "cell_type": "code",
      "source": [
        "grid_5=[]\n",
        "city=[Nagpur,Chennai,Delhi,Kolkata,Shimla]\n",
        "for i in range(0,5):\n",
        "  temp=[]\n",
        "  for j in range(0,5):\n",
        "    if(i==j):\n",
        "     temp.append(9999999)\n",
        "    else:\n",
        "     temp.append(geodesic(city[i],city[j]).miles)\n",
        "  grid_5.append(temp)\n",
        "print(grid_5)"
      ],
      "metadata": {
        "colab": {
          "base_uri": "https://localhost:8080/"
        },
        "id": "LzmNb4XjhFrc",
        "outputId": "02ebb021-d68c-4242-f1c4-1aa5626b7c30"
      },
      "execution_count": null,
      "outputs": [
        {
          "output_type": "stream",
          "name": "stdout",
          "text": [
            "[[9999999, 560.2190631788583, 528.4452755108051, 604.0116160731279, 695.4545775287297], [560.2190631788583, 9999999, 1087.8274555213395, 842.1449200434604, 1255.607462840337], [528.4452755108051, 1087.8274555213395, 9999999, 812.8430941762666, 170.5971541590439], [604.0116160731279, 842.1449200434604, 812.8430941762666, 9999999, 906.1148769301346], [695.4545775287297, 1255.607462840337, 170.5971541590439, 906.1148769301346, 9999999]]\n"
          ]
        }
      ]
    },
    {
      "cell_type": "markdown",
      "source": [
        "###OUTERSTATE 6 CITIES"
      ],
      "metadata": {
        "id": "fB2IhnEaku6S"
      }
    },
    {
      "cell_type": "code",
      "source": [
        "grid_6=[]\n",
        "city=[Nagpur,Chennai,Delhi,Kolkata,Shimla,Bhopal]\n",
        "for i in range(0,6):\n",
        "  temp=[]\n",
        "  for j in range(0,6):\n",
        "    if(i==j):\n",
        "     temp.append(9999999)\n",
        "    else:\n",
        "     temp.append(geodesic(city[i],city[j]).miles)\n",
        "  grid_6.append(temp)\n",
        "print(grid_6)"
      ],
      "metadata": {
        "colab": {
          "base_uri": "https://localhost:8080/"
        },
        "id": "Wse6zT34hFzM",
        "outputId": "6a79daa1-18d8-4932-d3ce-53b54c8df112"
      },
      "execution_count": null,
      "outputs": [
        {
          "output_type": "stream",
          "name": "stdout",
          "text": [
            "[[9999999, 560.2190631788583, 528.4452755108051, 604.0116160731279, 695.4545775287297, 180.65578425844924], [560.2190631788583, 9999999, 1087.8274555213395, 842.1449200434604, 1255.607462840337, 724.6585184812102], [528.4452755108051, 1087.8274555213395, 9999999, 812.8430941762666, 170.5971541590439, 369.8743363921492], [604.0116160731279, 842.1449200434604, 812.8430941762666, 9999999, 906.1148769301346, 700.1807514493582], [695.4545775287297, 1255.607462840337, 170.5971541590439, 906.1148769301346, 9999999, 540.3807307718665], [180.65578425844924, 724.6585184812102, 369.8743363921492, 700.1807514493582, 540.3807307718665, 9999999]]\n"
          ]
        }
      ]
    },
    {
      "cell_type": "code",
      "source": [
        "print(grid)#printing the matrix for all cases\n",
        "print(grid_1)\n",
        "print(grid_2)\n",
        "print(grid_4)\n",
        "print(grid_5)\n",
        "print(grid_6)"
      ],
      "metadata": {
        "colab": {
          "base_uri": "https://localhost:8080/"
        },
        "id": "e0D3F26yPQ_U",
        "outputId": "b2216a92-5f59-4fbe-9c83-d3fed740271f"
      },
      "execution_count": null,
      "outputs": [
        {
          "output_type": "stream",
          "name": "stdout",
          "text": [
            "[[9999999999, 427.50202366902516, 385.2763086761522, 131.23006286215718], [427.50202366902516, 9999999999, 74.55029367126821, 297.17866813221264], [385.2763086761522, 74.55029367126821, 9999999999, 260.14513015746394], [131.23006286215718, 297.17866813221264, 260.14513015746394, 9999999999]]\n",
            "[[99999999, 427.50202366902516, 385.2763086761522, 131.23006286215718, 83.59659509103939], [427.50202366902516, 99999999, 74.55029367126821, 297.17866813221264, 345.6887033823006], [385.2763086761522, 74.55029367126821, 99999999, 260.14513015746394, 307.64437067652113], [131.23006286215718, 297.17866813221264, 260.14513015746394, 99999999, 48.512360314384125], [83.59659509103939, 345.6887033823006, 307.64437067652113, 48.512360314384125, 99999999]]\n",
            "[[99999999, 427.50202366902516, 385.2763086761522, 131.23006286215718, 83.59659509103939, 131.23006286215718], [427.50202366902516, 99999999, 74.55029367126821, 297.17866813221264, 345.6887033823006, 297.17866813221264], [385.2763086761522, 74.55029367126821, 99999999, 260.14513015746394, 307.64437067652113, 260.14513015746394], [131.23006286215718, 297.17866813221264, 260.14513015746394, 99999999, 48.512360314384125, 0.0], [83.59659509103939, 345.6887033823006, 307.64437067652113, 48.512360314384125, 99999999, 48.512360314384125], [131.23006286215718, 297.17866813221264, 260.14513015746394, 0.0, 48.512360314384125, 99999999]]\n",
            "[[9999999, 560.2190631788583, 528.4452755108051, 604.0116160731279], [560.2190631788583, 9999999, 1087.8274555213395, 842.1449200434604], [528.4452755108051, 1087.8274555213395, 9999999, 812.8430941762666], [604.0116160731279, 842.1449200434604, 812.8430941762666, 9999999]]\n",
            "[[9999999, 560.2190631788583, 528.4452755108051, 604.0116160731279, 695.4545775287297], [560.2190631788583, 9999999, 1087.8274555213395, 842.1449200434604, 1255.607462840337], [528.4452755108051, 1087.8274555213395, 9999999, 812.8430941762666, 170.5971541590439], [604.0116160731279, 842.1449200434604, 812.8430941762666, 9999999, 906.1148769301346], [695.4545775287297, 1255.607462840337, 170.5971541590439, 906.1148769301346, 9999999]]\n",
            "[[9999999, 560.2190631788583, 528.4452755108051, 604.0116160731279, 695.4545775287297, 180.65578425844924], [560.2190631788583, 9999999, 1087.8274555213395, 842.1449200434604, 1255.607462840337, 724.6585184812102], [528.4452755108051, 1087.8274555213395, 9999999, 812.8430941762666, 170.5971541590439, 369.8743363921492], [604.0116160731279, 842.1449200434604, 812.8430941762666, 9999999, 906.1148769301346, 700.1807514493582], [695.4545775287297, 1255.607462840337, 170.5971541590439, 906.1148769301346, 9999999, 540.3807307718665], [180.65578425844924, 724.6585184812102, 369.8743363921492, 700.1807514493582, 540.3807307718665, 9999999]]\n"
          ]
        }
      ]
    },
    {
      "cell_type": "code",
      "source": [
        "print(grid)\n",
        "print(len(grid))"
      ],
      "metadata": {
        "colab": {
          "base_uri": "https://localhost:8080/"
        },
        "id": "kqpJBSfqGOYy",
        "outputId": "f4ef3fc4-3b55-4630-d237-f0b5b8683856"
      },
      "execution_count": null,
      "outputs": [
        {
          "output_type": "stream",
          "name": "stdout",
          "text": [
            "[[9999999999, 427.50202366902516, 385.2763086761522, 131.23006286215718], [427.50202366902516, 9999999999, 74.55029367126821, 297.17866813221264], [385.2763086761522, 74.55029367126821, 9999999999, 260.14513015746394], [131.23006286215718, 297.17866813221264, 260.14513015746394, 9999999999]]\n",
            "4\n"
          ]
        }
      ]
    },
    {
      "cell_type": "markdown",
      "source": [
        "MINIMUM FUNC FOR PRIMS ALGO"
      ],
      "metadata": {
        "id": "QKI9GDkek3I_"
      }
    },
    {
      "cell_type": "code",
      "source": [
        "def min_cost(grid):\n",
        "  mini=999999;\n",
        "  for i in range(0,len(grid)):\n",
        "    for j in range(0,len(grid)):\n",
        "      mini=min(mini,grid[i][j])#to find minimum distance between two different cities\n",
        "\n",
        "  for i in range(0,len(grid)):\n",
        "    for j in range(0,len(grid)):\n",
        "      if(mini==grid[i][j]):\n",
        "        min_row=i\n",
        "        min_col=j\n",
        "        break\n",
        "\n",
        "  return mini,min_row,min_col\n",
        "\n"
      ],
      "metadata": {
        "id": "nffwSKYSRQIK"
      },
      "execution_count": null,
      "outputs": []
    },
    {
      "cell_type": "markdown",
      "source": [
        "#### PRIMS ALGO :calculating shortest distance from each cities"
      ],
      "metadata": {
        "id": "IIVrG53dk8Y4"
      }
    },
    {
      "cell_type": "code",
      "source": [
        "def prims(grid):\n",
        "    # Find the minimum cost edge to start the tree\n",
        "    mini, k, l = min_cost(grid)  # Find the minimum cost and its corresponding vertices\n",
        "    # Initialize the tree with the minimum cost edge\n",
        "    tree = []\n",
        "    near = []  # List to keep track of the nearest vertices for each node\n",
        "\n",
        "    # Initialize 'near' list with zeros\n",
        "    for i in range(0, len(grid)):\n",
        "        near.append(0)\n",
        "\n",
        "    # Create the initial edge for the tree\n",
        "    temp = [k, l, mini]  # Store the minimum cost edge and its vertices\n",
        "    tree = [temp]  # Add the initial edge to the tree\n",
        "    mincost = grid[k][l]  # Initialize the minimum cost\n",
        "\n",
        "    mini_1 = 999999999  # Initialize a variable to find the next minimum edge\n",
        "\n",
        "    # Loop to build the minimum spanning tree\n",
        "    for i in range(0, len(grid)):\n",
        "        # Exclude the vertices already included in the tree\n",
        "        if(i == k or i == l):\n",
        "            near[i] = 0\n",
        "        else:\n",
        "            # Determine the nearest neighbor for each vertex not in the tree\n",
        "            if(grid[i][k] < grid[i][l]):\n",
        "                near[i] = k\n",
        "            else:\n",
        "                near[i] = l\n",
        "\n",
        "    # Iterate through the vertices to build the minimum spanning tree\n",
        "    for i in range(0, len(grid)):\n",
        "        mini_1 = 999999  # Reset the minimum edge value for the current iteration\n",
        "\n",
        "        for j in range(0, len(grid)):\n",
        "            for k in range(0, len(grid)):\n",
        "                # Find the minimum edge among the neighbors of each vertex\n",
        "                if(near[k] != 0):\n",
        "                    mini_1 = min(mini_1, grid[k][near[k]])\n",
        "\n",
        "            # Check if the edge is the next minimum and add it to the tree\n",
        "            if(near[j] != 0 and grid[j][near[j]] == mini_1):\n",
        "                temp = [j, near[j], grid[j][near[j]]]\n",
        "                tree.insert(i, temp)  # Insert the minimum edge into the tree\n",
        "                mini_index = j\n",
        "                mincost += grid[j][near[j]]\n",
        "                near[j] = 0  # Mark the vertex as included in the tree\n",
        "\n",
        "        # Update 'near' list based on the newly added vertex\n",
        "        for m in range(0, len(grid)):\n",
        "            if(near[m] != 0 and grid[m][near[m]] > grid[m][j]):\n",
        "                near[m] = j\n",
        "\n",
        "    # Print the minimum spanning tree\n",
        "    for i in range(0, len(tree)):\n",
        "        print(tree[i])\n",
        "\n",
        "    # Print the final 'near' list\n",
        "    print(near)\n",
        "\n",
        "# Call the prims function with your 'grid' data.\n",
        "# Make sure you define the min_cost and grid variables before calling the function.\n",
        "prims(grid)\n"
      ],
      "metadata": {
        "id": "7lIITa4sUhbl",
        "colab": {
          "base_uri": "https://localhost:8080/"
        },
        "outputId": "d8eab349-7f91-463d-eaf5-f6cd64133059"
      },
      "execution_count": null,
      "outputs": [
        {
          "output_type": "stream",
          "name": "stdout",
          "text": [
            "[3, 2, 260.14513015746394]\n",
            "[0, 3, 131.23006286215718]\n",
            "[2, 1, 74.55029367126821]\n",
            "[0, 0, 0, 0]\n"
          ]
        }
      ]
    },
    {
      "cell_type": "markdown",
      "source": [
        "### CALCULATING TIME AND CALLING PRIMS FUNCTION FOR EACH TESTCASE|"
      ],
      "metadata": {
        "id": "KkNSUpAhlIJa"
      }
    },
    {
      "cell_type": "code",
      "source": [
        "import time\n",
        "import os\n",
        "\n",
        "arr_time_same=[]\n",
        "start=time.perf_counter()\n",
        "prims(grid_1)\n",
        "end=time.perf_counter()\n",
        "time_total=end-start\n",
        "print(time_total)\n",
        "arr_time_same.append(time_total)#calculting using time module in python and appending it in an array"
      ],
      "metadata": {
        "colab": {
          "base_uri": "https://localhost:8080/"
        },
        "id": "pBomJO1VWM62",
        "outputId": "00f6c4fa-a4ba-4010-8626-2f971012de25"
      },
      "execution_count": null,
      "outputs": [
        {
          "output_type": "stream",
          "name": "stdout",
          "text": [
            "48.512360314384125\n",
            "4\n",
            "3\n",
            "[4, 3, 3, 0, 0]\n",
            "[0, 4, 83.59659509103939]\n",
            "[2, 3, 260.14513015746394]\n",
            "[1, 3, 297.17866813221264]\n",
            "[4, 3, 48.512360314384125]\n",
            "[0, 0, 0, 0, 0]\n",
            "0.00314332399997852\n"
          ]
        }
      ]
    },
    {
      "cell_type": "code",
      "source": [
        "start=time.perf_counter()\n",
        "prims(grid_2)\n",
        "end=time.perf_counter()\n",
        "time_total=end-start\n",
        "print(time_total)\n",
        "arr_time_same.append(time_total)"
      ],
      "metadata": {
        "colab": {
          "base_uri": "https://localhost:8080/"
        },
        "id": "1YUKtJQhXYzp",
        "outputId": "8e0a1ef7-4284-4cd8-8bb0-0441f1cc71b9"
      },
      "execution_count": null,
      "outputs": [
        {
          "output_type": "stream",
          "name": "stdout",
          "text": [
            "0.0\n",
            "5\n",
            "3\n",
            "[3, 3, 3, 0, 3, 0]\n",
            "[4, 3, 48.512360314384125]\n",
            "[0, 3, 131.23006286215718]\n",
            "[2, 3, 260.14513015746394]\n",
            "[1, 3, 297.17866813221264]\n",
            "[5, 3, 0.0]\n",
            "[0, 0, 0, 0, 0, 0]\n",
            "0.0004438910000033047\n"
          ]
        }
      ]
    },
    {
      "cell_type": "code",
      "source": [
        "start=time.perf_counter()\n",
        "prims(grid_4)\n",
        "end=time.perf_counter()\n",
        "time_total=end-start\n",
        "print(time_total)\n",
        "arr_time_other=[]\n",
        "arr_time_other.append(time_total)"
      ],
      "metadata": {
        "colab": {
          "base_uri": "https://localhost:8080/"
        },
        "id": "XBlfIIcqX6xh",
        "outputId": "8bd26ce2-ab47-4841-df64-b41b51c8aadd"
      },
      "execution_count": null,
      "outputs": [
        {
          "output_type": "stream",
          "name": "stdout",
          "text": [
            "528.4452755108051\n",
            "2\n",
            "0\n",
            "[0, 0, 0, 0]\n",
            "[2, 0, 528.4452755108051]\n",
            "[0, 0, 0, 0]\n",
            "0.00031093600000531296\n"
          ]
        }
      ]
    },
    {
      "cell_type": "code",
      "source": [
        "start=time.perf_counter()\n",
        "prims(grid)\n",
        "end=time.perf_counter()\n",
        "time_total=end-start\n",
        "print(time_total)\n",
        "arr_time_same.append(time_total)"
      ],
      "metadata": {
        "colab": {
          "base_uri": "https://localhost:8080/"
        },
        "id": "2UEABd86YFCf",
        "outputId": "00ff661b-f291-4b85-c788-5de1becd888b"
      },
      "execution_count": null,
      "outputs": [
        {
          "output_type": "stream",
          "name": "stdout",
          "text": [
            "74.55029367126821\n",
            "2\n",
            "1\n",
            "[2, 0, 0, 2]\n",
            "[3, 2, 260.14513015746394]\n",
            "[0, 3, 131.23006286215718]\n",
            "[2, 1, 74.55029367126821]\n",
            "[0, 0, 0, 0]\n",
            "0.0003530529999977716\n"
          ]
        }
      ]
    },
    {
      "cell_type": "code",
      "source": [
        "start=time.perf_counter()\n",
        "prims(grid_5)\n",
        "end=time.perf_counter()\n",
        "time_total=end-start\n",
        "print(time_total)\n",
        "arr_time_other.append(time_total)"
      ],
      "metadata": {
        "colab": {
          "base_uri": "https://localhost:8080/"
        },
        "id": "AwwIVjnCcm7S",
        "outputId": "e59cb26b-d8b2-4f14-9741-59f62281608a"
      },
      "execution_count": null,
      "outputs": [
        {
          "output_type": "stream",
          "name": "stdout",
          "text": [
            "170.5971541590439\n",
            "4\n",
            "2\n",
            "[2, 2, 0, 2, 0]\n",
            "[0, 2, 528.4452755108051]\n",
            "[3, 2, 812.8430941762666]\n",
            "[1, 2, 1087.8274555213395]\n",
            "[4, 2, 170.5971541590439]\n",
            "[0, 0, 0, 0, 0]\n",
            "0.00043018799999572366\n"
          ]
        }
      ]
    },
    {
      "cell_type": "code",
      "source": [
        "start=time.perf_counter()\n",
        "prims(grid_6)\n",
        "end=time.perf_counter()\n",
        "time_total=end-start\n",
        "print(time_total)\n",
        "arr_time_other.append(time_total)"
      ],
      "metadata": {
        "colab": {
          "base_uri": "https://localhost:8080/"
        },
        "id": "NMqlIsrwjweX",
        "outputId": "f43e6591-8aa4-483c-faf0-b45481f18a99"
      },
      "execution_count": null,
      "outputs": [
        {
          "output_type": "stream",
          "name": "stdout",
          "text": [
            "170.5971541590439\n",
            "4\n",
            "2\n",
            "[2, 2, 0, 2, 0, 2]\n",
            "[5, 2, 369.8743363921492]\n",
            "[0, 5, 180.65578425844924]\n",
            "[3, 5, 700.1807514493582]\n",
            "[1, 5, 724.6585184812102]\n",
            "[4, 2, 170.5971541590439]\n",
            "[0, 0, 0, 0, 0, 0]\n",
            "0.00044488000000342254\n"
          ]
        }
      ]
    },
    {
      "cell_type": "code",
      "source": [
        "print(arr_time_same)\n",
        "print(arr_time_other)\n",
        "arr_time_same.sort()\n",
        "arr_time_other.sort()\n",
        "print(arr_time_same)\n",
        "print(arr_time_other)#printing all values"
      ],
      "metadata": {
        "colab": {
          "base_uri": "https://localhost:8080/"
        },
        "id": "pcqljOLKjz5m",
        "outputId": "37b4e246-d3f3-4d15-a2cc-3a5d20f7ad1a"
      },
      "execution_count": null,
      "outputs": [
        {
          "output_type": "stream",
          "name": "stdout",
          "text": [
            "[0.00314332399997852, 0.0004438910000033047, 0.0003530529999977716]\n",
            "[0.00031093600000531296, 0.00043018799999572366, 0.00044488000000342254]\n",
            "[0.0003530529999977716, 0.0004438910000033047, 0.00314332399997852]\n",
            "[0.00031093600000531296, 0.00043018799999572366, 0.00044488000000342254]\n"
          ]
        }
      ]
    },
    {
      "cell_type": "markdown",
      "source": [
        "###PLOTTING OF TIME TAKEN FOR EACH TESTCASE"
      ],
      "metadata": {
        "id": "bs9IWVDFqCWc"
      }
    },
    {
      "cell_type": "code",
      "source": [
        "import matplotlib.pyplot as plt\n",
        "import numpy as np\n",
        "a=np.array(arr_time_same)\n",
        "b=np.array(arr_time_other)#converting into numpy array\n",
        "x = np.array([\"4\", \"5\", \"6\"])#number of cities\n",
        "X_axis = np.arange(len(x))\n",
        "plt.bar(X_axis - 0.2, a, 0.4, label='Within State',color=\"red\")\n",
        "plt.bar(X_axis + 0.2, b, 0.4, label='Outside State',color=\"yellow\")\n",
        "plt.legend()#legend label setup\n",
        "plt.show()\n"
      ],
      "metadata": {
        "colab": {
          "base_uri": "https://localhost:8080/",
          "height": 430
        },
        "id": "FOMh1L4ImLpt",
        "outputId": "ba549a4d-0075-471c-92ed-ab2d03190b07"
      },
      "execution_count": null,
      "outputs": [
        {
          "output_type": "display_data",
          "data": {
            "text/plain": [
              "<Figure size 640x480 with 1 Axes>"
            ],
            "image/png": "[encoded data removed]"
          },
          "metadata": {}
        }
      ]
    },
    {
      "cell_type": "markdown",
      "source": [],
      "metadata": {
        "id": "sEi5kVxSqAiY"
      }
    },
    {
      "cell_type": "code",
      "source": [],
      "metadata": {
        "id": "Zaeg8SG8n-6K"
      },
      "execution_count": null,
      "outputs": []
    },
    {
      "cell_type": "markdown",
      "source": [],
      "metadata": {
        "id": "nE_4pHplolHW"
      }
    }
  ]
}