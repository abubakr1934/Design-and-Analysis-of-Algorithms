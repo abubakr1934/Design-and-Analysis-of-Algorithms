{
  "nbformat": 4,
  "nbformat_minor": 0,
  "metadata": {
    "colab": {
      "provenance": []
    },
    "kernelspec": {
      "name": "python3",
      "display_name": "Python 3"
    },
    "language_info": {
      "name": "python"
    }
  },
  "cells": [
    {
      "cell_type": "markdown",
      "source": [
        "**Name:Mohammad Abubakr Khanooni**\n",
        "\n",
        "\n",
        "**Roll no :A2-27**\n",
        "\n",
        "**DA Practical 1:**\n",
        "\n",
        "**Aim:Write a program read the file and find Minimum and Maximum using Brute force approach. Also propose and implement an improved algorithm based on Divide and Conquer Strategy. Also calculate the time taken by both the algotihm. **\n"
      ],
      "metadata": {
        "id": "hDssdbjI--XN"
      }
    },
    {
      "cell_type": "code",
      "execution_count": 19,
      "metadata": {
        "id": "Enrm5UQ_3JN5"
      },
      "outputs": [],
      "source": [
        "import pandas as pd\n",
        "import numpy as np\n",
        "bruteforce=np.array([0,0,0,0,0])#will store the time taken by 5 of the csv files in each index by bruteforce\n",
        "dandc=np.array([0,0,0,0,0])#will store the time taken by 5 of the csv files in each index by D&C algo"
      ]
    },
    {
      "cell_type": "code",
      "source": [
        "df = pd.read_csv('data500.csv')\n",
        "second_column_values = df.iloc[:, 0].values\n",
        "print(second_column_values)"
      ],
      "metadata": {
        "colab": {
          "base_uri": "https://localhost:8080/"
        },
        "id": "Q90NMvIK6wRG",
        "outputId": "a7501684-f34c-43ae-d984-c37ba9700fe6"
      },
      "execution_count": 20,
      "outputs": [
        {
          "output_type": "stream",
          "name": "stdout",
          "text": [
            "[255  78 768 187 481  53 948 760 820 532 205 998 406  12 456 624 335 135\n",
            " 589 623 332 327 394 106 932 899 406 895 523 612 259 786 561  80 575 935\n",
            " 249 680 117 825  65 325 865 931 353 541 289 405 210 721 474 706 992 931\n",
            "  15 797  18 936 662 840 192 719 122 936 517 228 576 675 961 814 681 134\n",
            " 412 638 690 523 963 994 926 824 638 495 680   9 317 500 850 994 454  99\n",
            " 334 850 249 780 635 244 318 848 352 889 791 840 570 473 220 172 338 447\n",
            " 392 958 905 572 365 410 736 624 392 690 112 907  90 687 650   4 133 804\n",
            "  87 501 247 600 208 198 230 338 793 527 220 459 769  27 498 322 951  69\n",
            " 715 274 610 900 971 254 355 249 757 963 611 177 713 300 885  59 176 231\n",
            " 617 243 236 635 788 880 347 600 606 125 480 583 278 722  86 469 971 921\n",
            " 371 541 453 542 173 321 773 751  80 625 225 939 644 848 274 745 112  85\n",
            " 830 841  94 343 277  70 682 409 281 333 443 775 142 222 772  38 783  70\n",
            " 571 570 840 517 196 822 731 627 410 707 676 645  75 514  87 640 670 470\n",
            " 391 608 153 402 695 363 426 845 337 380 550 520 572 327 742 306 792 186\n",
            " 912 191 815 660  20 884 411 731  44 628 419 812 188 350 824 807 410 755\n",
            " 141 408 743 987 395 963 394 892 718  66 623 975 810 722 335 909  52  56\n",
            " 374 457  42 409 172 568 940 554 469 344 674 320 745 506 683  64 678 135\n",
            " 626 293 655  17 675 362 963 921 576 856 925 461 516  14 302 648 811 600\n",
            " 428 264 345 478 523 998 401 692  88 668 662 451 155 520 639 374  92 638\n",
            " 722  42 517 631 792 146 471 448 790  90 453 152 839 487 992 843 911 676\n",
            " 523 227 309 227 680 259 327 850  91 207 796 335 992 660 997 348 664 844\n",
            " 972 371 204 183 609 736 140 840 900 762 173 947 416 607 370 708 177 145\n",
            " 605 955 919 897 479 186 539 241 680 839 494  71 730 816 599 261 632 145\n",
            " 528 210 820 892 678 816 483  64 257 427 532 953 438 290  98 176 242 161\n",
            " 931 374 347 827 222  27 227 335 285 201 673 171 396 682 457 705  90 658\n",
            " 719 853 176 770 636 460 190 302 224 512 257 502 414 924 105 615 255 899\n",
            " 271 363 981 402 972  31 891 306 647 481 599 881 358 509 890  23 458 606\n",
            " 455 141 765 179 679 445  12 547 943 405 180 763 978 294]\n"
          ]
        }
      ]
    },
    {
      "cell_type": "code",
      "source": [
        "hello=type(second_column_values)\n",
        "print(hello)"
      ],
      "metadata": {
        "colab": {
          "base_uri": "https://localhost:8080/"
        },
        "id": "dz1n7Jp98rw1",
        "outputId": "eec62b6e-3f8a-4dd7-ee56-e3be44560557"
      },
      "execution_count": 21,
      "outputs": [
        {
          "output_type": "stream",
          "name": "stdout",
          "text": [
            "<class 'numpy.ndarray'>\n"
          ]
        }
      ]
    },
    {
      "cell_type": "code",
      "source": [
        "import numpy as np"
      ],
      "metadata": {
        "id": "jdDJi15h9DOt"
      },
      "execution_count": 22,
      "outputs": []
    },
    {
      "cell_type": "code",
      "source": [
        "arr=np.array(second_column_values)\n",
        "print(arr)\n",
        "a=len(arr)\n",
        "print(a)"
      ],
      "metadata": {
        "colab": {
          "base_uri": "https://localhost:8080/"
        },
        "id": "KuxoT47_9FYR",
        "outputId": "50123a1c-5b68-43a3-d929-33630edcdbf6"
      },
      "execution_count": 23,
      "outputs": [
        {
          "output_type": "stream",
          "name": "stdout",
          "text": [
            "[255  78 768 187 481  53 948 760 820 532 205 998 406  12 456 624 335 135\n",
            " 589 623 332 327 394 106 932 899 406 895 523 612 259 786 561  80 575 935\n",
            " 249 680 117 825  65 325 865 931 353 541 289 405 210 721 474 706 992 931\n",
            "  15 797  18 936 662 840 192 719 122 936 517 228 576 675 961 814 681 134\n",
            " 412 638 690 523 963 994 926 824 638 495 680   9 317 500 850 994 454  99\n",
            " 334 850 249 780 635 244 318 848 352 889 791 840 570 473 220 172 338 447\n",
            " 392 958 905 572 365 410 736 624 392 690 112 907  90 687 650   4 133 804\n",
            "  87 501 247 600 208 198 230 338 793 527 220 459 769  27 498 322 951  69\n",
            " 715 274 610 900 971 254 355 249 757 963 611 177 713 300 885  59 176 231\n",
            " 617 243 236 635 788 880 347 600 606 125 480 583 278 722  86 469 971 921\n",
            " 371 541 453 542 173 321 773 751  80 625 225 939 644 848 274 745 112  85\n",
            " 830 841  94 343 277  70 682 409 281 333 443 775 142 222 772  38 783  70\n",
            " 571 570 840 517 196 822 731 627 410 707 676 645  75 514  87 640 670 470\n",
            " 391 608 153 402 695 363 426 845 337 380 550 520 572 327 742 306 792 186\n",
            " 912 191 815 660  20 884 411 731  44 628 419 812 188 350 824 807 410 755\n",
            " 141 408 743 987 395 963 394 892 718  66 623 975 810 722 335 909  52  56\n",
            " 374 457  42 409 172 568 940 554 469 344 674 320 745 506 683  64 678 135\n",
            " 626 293 655  17 675 362 963 921 576 856 925 461 516  14 302 648 811 600\n",
            " 428 264 345 478 523 998 401 692  88 668 662 451 155 520 639 374  92 638\n",
            " 722  42 517 631 792 146 471 448 790  90 453 152 839 487 992 843 911 676\n",
            " 523 227 309 227 680 259 327 850  91 207 796 335 992 660 997 348 664 844\n",
            " 972 371 204 183 609 736 140 840 900 762 173 947 416 607 370 708 177 145\n",
            " 605 955 919 897 479 186 539 241 680 839 494  71 730 816 599 261 632 145\n",
            " 528 210 820 892 678 816 483  64 257 427 532 953 438 290  98 176 242 161\n",
            " 931 374 347 827 222  27 227 335 285 201 673 171 396 682 457 705  90 658\n",
            " 719 853 176 770 636 460 190 302 224 512 257 502 414 924 105 615 255 899\n",
            " 271 363 981 402 972  31 891 306 647 481 599 881 358 509 890  23 458 606\n",
            " 455 141 765 179 679 445  12 547 943 405 180 763 978 294]\n",
            "500\n"
          ]
        }
      ]
    },
    {
      "cell_type": "markdown",
      "source": [
        "**brute force method**"
      ],
      "metadata": {
        "id": "X0ur4yAlDNVI"
      }
    },
    {
      "cell_type": "code",
      "source": [
        "def findMinMax(X, n):\n",
        "    max_val = X[0]\n",
        "    min_val = X[0]\n",
        "\n",
        "    for i in range(1, n):\n",
        "        if X[i] > max_val:\n",
        "            max_val = X[i]\n",
        "        elif X[i] < min_val:\n",
        "            min_val = X[i]\n",
        "\n",
        "    max_min = [max_val, min_val]\n",
        "    return max_min\n"
      ],
      "metadata": {
        "id": "5cvDPtoG9YJm"
      },
      "execution_count": 24,
      "outputs": []
    },
    {
      "cell_type": "code",
      "source": [
        "arr1=findMinMax(arr,a)"
      ],
      "metadata": {
        "id": "iXzC2MRz-JGW"
      },
      "execution_count": 25,
      "outputs": []
    },
    {
      "cell_type": "code",
      "source": [
        "print(\"the maximum element is\",arr1[0],\" and minimum element is \",arr1[1])"
      ],
      "metadata": {
        "colab": {
          "base_uri": "https://localhost:8080/"
        },
        "id": "6mOgubAK-fC2",
        "outputId": "a23849ea-a090-4a76-ca0a-89f9f1077de9"
      },
      "execution_count": 26,
      "outputs": [
        {
          "output_type": "stream",
          "name": "stdout",
          "text": [
            "the maximum element is 998  and minimum element is  4\n"
          ]
        }
      ]
    },
    {
      "cell_type": "code",
      "source": [
        "print(\"the time complexity of brute force algorithm is \")\n",
        "import time\n",
        "start=time.perf_counter()\n",
        "findMinMax(arr,500)\n",
        "end= time.perf_counter()\n",
        "timetaken=end-start\n",
        "print(timetaken)\n",
        "bruteforce[0]=timetaken"
      ],
      "metadata": {
        "colab": {
          "base_uri": "https://localhost:8080/"
        },
        "id": "SDDUldC7FUrB",
        "outputId": "5e650eba-db12-463c-e37f-d519fd5329f0"
      },
      "execution_count": 42,
      "outputs": [
        {
          "output_type": "stream",
          "name": "stdout",
          "text": [
            "the time complexity of brute force algorithm is \n",
            "0.0003694299999779105\n"
          ]
        }
      ]
    },
    {
      "cell_type": "markdown",
      "source": [
        "**divide and conquer**"
      ],
      "metadata": {
        "id": "uHhYKTmjDVQR"
      }
    },
    {
      "cell_type": "code",
      "source": [
        "def findMinMaxnew(X, l, r):#using divide and conquer\n",
        "    max, min = 0, 0\n",
        "    if l == r:#when the array got split into an array containing only one element\n",
        "        max = X[l]\n",
        "        min = X[l]\n",
        "    elif l + 1 == r:#when its having two elements\n",
        "        if X[l] < X[r]:\n",
        "            max = X[r]\n",
        "            min = X[l]\n",
        "        else:\n",
        "            max = X[l]\n",
        "            min = X[r]\n",
        "    else:\n",
        "        mid = l + (r - l) // 2\n",
        "        leftMinMax = findMinMaxnew(X, l, mid)#calling recursively until either of the above two conditions meet\n",
        "        rightMinMax = findMinMaxnew(X, mid + 1, r)\n",
        "        if leftMinMax[0] > rightMinMax[0]:\n",
        "            max = leftMinMax[0]\n",
        "        else:\n",
        "            max = rightMinMax[0]\n",
        "        if leftMinMax[1] < rightMinMax[1]:\n",
        "            min = leftMinMax[1]\n",
        "        else:\n",
        "            min = rightMinMax[1]\n",
        "    maxMin = [max, min]\n",
        "    return maxMin"
      ],
      "metadata": {
        "id": "zzJx0UNVBgv8"
      },
      "execution_count": 28,
      "outputs": []
    },
    {
      "cell_type": "code",
      "source": [
        "arr2=findMinMaxnew(arr,0,a-1)"
      ],
      "metadata": {
        "id": "G2BwQCNtCSiI"
      },
      "execution_count": 29,
      "outputs": []
    },
    {
      "cell_type": "code",
      "source": [
        "print(\"the maximum element is\",arr2[0],\" and minimum element is \",arr2[1])"
      ],
      "metadata": {
        "colab": {
          "base_uri": "https://localhost:8080/"
        },
        "id": "lLVgaRWqCmuo",
        "outputId": "377e25d8-ed84-4ccf-bc19-64282fa212da"
      },
      "execution_count": 30,
      "outputs": [
        {
          "output_type": "stream",
          "name": "stdout",
          "text": [
            "the maximum element is 998  and minimum element is  4\n"
          ]
        }
      ]
    },
    {
      "cell_type": "code",
      "source": [
        "print(\"the time complexity of divide and conquer algorithm is \")\n",
        "import time\n",
        "start=time.perf_counter()\n",
        "findMinMaxnew(arr,0,a-1)\n",
        "end= time.perf_counter()\n",
        "timetaken=end-start\n",
        "print(timetaken)\n",
        "dandc[0]=timetaken"
      ],
      "metadata": {
        "colab": {
          "base_uri": "https://localhost:8080/"
        },
        "id": "G9-2s2t9DjAG",
        "outputId": "09119627-fc18-47f6-f5dc-107e6f673781"
      },
      "execution_count": 43,
      "outputs": [
        {
          "output_type": "stream",
          "name": "stdout",
          "text": [
            "the time complexity of divide and conquer algorithm is \n",
            "0.0001669040000251698\n"
          ]
        }
      ]
    },
    {
      "cell_type": "markdown",
      "source": [
        "\n",
        "\n",
        "\n",
        "\n",
        "\n",
        "\n",
        "For next csv file-test1.csv\n",
        "\n"
      ],
      "metadata": {
        "id": "AhhIftLH6C41"
      }
    },
    {
      "cell_type": "code",
      "source": [
        "df1 = pd.read_csv('test1.csv')\n",
        "second_column_values1 = df1.iloc[:, 1].values\n",
        "print(second_column_values1)"
      ],
      "metadata": {
        "colab": {
          "base_uri": "https://localhost:8080/"
        },
        "id": "zQYZegkXIKcU",
        "outputId": "009ba29c-55d6-460b-ff84-25d6d46b3287"
      },
      "execution_count": 32,
      "outputs": [
        {
          "output_type": "stream",
          "name": "stdout",
          "text": [
            "[35.2  36.65 37.13 37.1  38.03 38.91 38.51 38.22 39.64 40.15 40.37 40.4\n",
            " 40.58 40.5  38.4  38.72 37.01 36.2  37.13 34.54 36.16 38.65 37.84]\n"
          ]
        }
      ]
    },
    {
      "cell_type": "code",
      "source": [
        "arr_2nd=np.array(second_column_values1)\n",
        "print(arr_2nd)\n",
        "a=len(arr_2nd)\n",
        "print(a)"
      ],
      "metadata": {
        "colab": {
          "base_uri": "https://localhost:8080/"
        },
        "id": "_GFiGDZRIZDx",
        "outputId": "55b8a171-141e-4219-ec30-214af5818c05"
      },
      "execution_count": 33,
      "outputs": [
        {
          "output_type": "stream",
          "name": "stdout",
          "text": [
            "[35.2  36.65 37.13 37.1  38.03 38.91 38.51 38.22 39.64 40.15 40.37 40.4\n",
            " 40.58 40.5  38.4  38.72 37.01 36.2  37.13 34.54 36.16 38.65 37.84]\n",
            "23\n"
          ]
        }
      ]
    },
    {
      "cell_type": "code",
      "source": [
        "#bruteforce\n",
        "arr10=findMinMax(arr_2nd,a)\n",
        "print(\"the maximum element is\",arr10[0],\" and minimum element is \",arr10[1])"
      ],
      "metadata": {
        "colab": {
          "base_uri": "https://localhost:8080/"
        },
        "id": "aVGhsp9WInJ1",
        "outputId": "94ae1b3d-6d6c-4476-f5ec-091ff9484897"
      },
      "execution_count": 38,
      "outputs": [
        {
          "output_type": "stream",
          "name": "stdout",
          "text": [
            "the maximum element is 40.58  and minimum element is  34.54\n"
          ]
        }
      ]
    },
    {
      "cell_type": "code",
      "source": [
        "print(\"the time complexity of brute force algorithm is \")\n",
        "import time\n",
        "start=time.perf_counter()\n",
        "findMinMax(arr_2nd,len(arr_2nd))\n",
        "end= time.perf_counter()\n",
        "timetaken=end-start\n",
        "print(timetaken)\n"
      ],
      "metadata": {
        "colab": {
          "base_uri": "https://localhost:8080/"
        },
        "id": "hnsJdyRaLyHf",
        "outputId": "275b4f9f-8a53-45c9-9a27-3f35f750af8e"
      },
      "execution_count": 44,
      "outputs": [
        {
          "output_type": "stream",
          "name": "stdout",
          "text": [
            "the time complexity of brute force algorithm is \n",
            "0.0001653870000382085\n"
          ]
        }
      ]
    },
    {
      "cell_type": "code",
      "source": [
        "bruteforce[1]=timetaken"
      ],
      "metadata": {
        "id": "oL0VjJv_9AR0"
      },
      "execution_count": 45,
      "outputs": []
    },
    {
      "cell_type": "code",
      "source": [
        "#for d and c\n",
        "arr2=findMinMaxnew(arr_2nd,0,len(arr_2nd)-1)\n",
        "print(\"the maximum element is\",arr2[0],\" and minimum element is \",arr2[1])\n"
      ],
      "metadata": {
        "id": "IdkHhhi7MHfY",
        "colab": {
          "base_uri": "https://localhost:8080/"
        },
        "outputId": "dcabf488-0186-4771-a1fb-bc210f07e35c"
      },
      "execution_count": 40,
      "outputs": [
        {
          "output_type": "stream",
          "name": "stdout",
          "text": [
            "the maximum element is 40.58  and minimum element is  34.54\n"
          ]
        }
      ]
    },
    {
      "cell_type": "code",
      "source": [
        "print(\"the time complexity of divide and conquer algorithm is \")\n",
        "import time\n",
        "start=time.perf_counter()\n",
        "arr2=findMinMaxnew(arr_2nd,0,len(arr_2nd)-1)\n",
        "end= time.perf_counter()\n",
        "timetaken=end-start\n",
        "print(timetaken)"
      ],
      "metadata": {
        "colab": {
          "base_uri": "https://localhost:8080/"
        },
        "id": "C8rZeC-K78jQ",
        "outputId": "585828b7-97f2-4d57-c408-24b5bb8a0747"
      },
      "execution_count": 46,
      "outputs": [
        {
          "output_type": "stream",
          "name": "stdout",
          "text": [
            "the time complexity of divide and conquer algorithm is \n",
            "0.00021900999996660175\n"
          ]
        }
      ]
    },
    {
      "cell_type": "code",
      "source": [
        "dandc[1]=timetaken"
      ],
      "metadata": {
        "id": "p_6CB5918op-"
      },
      "execution_count": 47,
      "outputs": []
    },
    {
      "cell_type": "markdown",
      "source": [
        "for next csv file-test2.csv"
      ],
      "metadata": {
        "id": "kaYtnaHi9Q65"
      }
    },
    {
      "cell_type": "code",
      "source": [
        "df = pd.read_csv('test2.csv')\n",
        "second_column_values = df.iloc[:, 1].values\n",
        "print(second_column_values)"
      ],
      "metadata": {
        "colab": {
          "base_uri": "https://localhost:8080/"
        },
        "id": "ij3-mGIi9GoU",
        "outputId": "fdeefbad-bb4e-4867-f4b6-09082d5453f2"
      },
      "execution_count": 50,
      "outputs": [
        {
          "output_type": "stream",
          "name": "stdout",
          "text": [
            "[ 4.5 16.9  5.7 ... 14.   9.7 12.9]\n"
          ]
        }
      ]
    },
    {
      "cell_type": "code",
      "source": [
        "arr=np.array(second_column_values)\n",
        "print(arr)\n",
        "a=len(arr)\n",
        "print(a)"
      ],
      "metadata": {
        "colab": {
          "base_uri": "https://localhost:8080/"
        },
        "id": "O5waHF0V-40t",
        "outputId": "234726cb-0ed5-4e21-9622-928c1fe6a7a4"
      },
      "execution_count": 51,
      "outputs": [
        {
          "output_type": "stream",
          "name": "stdout",
          "text": [
            "[ 4.5 16.9  5.7 ... 14.   9.7 12.9]\n",
            "78416\n"
          ]
        }
      ]
    },
    {
      "cell_type": "code",
      "source": [
        "#using bruteforce\n",
        "arr1=findMinMax(arr,a)\n",
        "print(\"the maximum element is\",arr1[0],\" and minimum element is \",arr1[1])\n",
        "print(\"the time complexity of brute force algorithm is \")\n",
        "import time\n",
        "start=time.perf_counter()\n",
        "findMinMax(arr,500)\n",
        "end= time.perf_counter()\n",
        "timetaken=end-start\n",
        "print(timetaken)\n",
        "bruteforce[2]=timetaken\n"
      ],
      "metadata": {
        "colab": {
          "base_uri": "https://localhost:8080/"
        },
        "id": "IlOpR6xY-_UF",
        "outputId": "297d62cb-7bc1-4587-f21c-312c39c7fd32"
      },
      "execution_count": 52,
      "outputs": [
        {
          "output_type": "stream",
          "name": "stdout",
          "text": [
            "the maximum element is 200.0  and minimum element is  -44.9\n",
            "the time complexity of brute force algorithm is \n",
            "0.00022133799996026937\n"
          ]
        }
      ]
    },
    {
      "cell_type": "code",
      "source": [
        "#using divide and conquer\n",
        "arr2=findMinMaxnew(arr,0,a-1)\n",
        "print(\"the maximum element is\",arr2[0],\" and minimum element is \",arr2[1])\n",
        "print(\"the time complexity of divide and conquer algorithm is \")\n",
        "import time\n",
        "start=time.perf_counter()\n",
        "findMinMaxnew(arr,0,a-1)\n",
        "end= time.perf_counter()\n",
        "timetaken=end-start\n",
        "print(timetaken)\n",
        "dandc[2]=timetaken"
      ],
      "metadata": {
        "colab": {
          "base_uri": "https://localhost:8080/"
        },
        "id": "ROWG3ptS_aQl",
        "outputId": "ebe7bba9-a8ed-4aa4-e52c-52c2ec122b04"
      },
      "execution_count": 53,
      "outputs": [
        {
          "output_type": "stream",
          "name": "stdout",
          "text": [
            "the maximum element is 200.0  and minimum element is  -44.9\n",
            "the time complexity of divide and conquer algorithm is \n",
            "0.057893478000096366\n"
          ]
        }
      ]
    },
    {
      "cell_type": "markdown",
      "source": [
        "for fourth csv file=test3.csv"
      ],
      "metadata": {
        "id": "NyZgmnxS_9_E"
      }
    },
    {
      "cell_type": "code",
      "source": [
        "df = pd.read_csv('test3.csv')\n",
        "second_column_values = df.iloc[:, 1].values\n",
        "print(second_column_values)"
      ],
      "metadata": {
        "colab": {
          "base_uri": "https://localhost:8080/"
        },
        "id": "e7xKF5ep_9HU",
        "outputId": "e21b1e31-dd5a-4482-aaee-7c52dee4006e"
      },
      "execution_count": 57,
      "outputs": [
        {
          "output_type": "stream",
          "name": "stdout",
          "text": [
            "[15.07 14.89 14.45 ... 76.64 72.74 72.7 ]\n"
          ]
        }
      ]
    },
    {
      "cell_type": "code",
      "source": [
        "arr=np.array(second_column_values)\n",
        "print(arr)\n",
        "a=len(arr)\n",
        "print(a)"
      ],
      "metadata": {
        "colab": {
          "base_uri": "https://localhost:8080/"
        },
        "id": "YwxJ9uRQ_o-G",
        "outputId": "45b26f9c-83b2-4cc5-c8c8-27570e238399"
      },
      "execution_count": 58,
      "outputs": [
        {
          "output_type": "stream",
          "name": "stdout",
          "text": [
            "[15.07 14.89 14.45 ... 76.64 72.74 72.7 ]\n",
            "619040\n"
          ]
        }
      ]
    },
    {
      "cell_type": "code",
      "source": [
        "#using bruteforce\n",
        "arr1=findMinMax(arr,a)\n",
        "print(\"the maximum element is\",arr1[0],\" and minimum element is \",arr1[1])\n",
        "print(\"the time complexity of brute force algorithm is \")\n",
        "import time\n",
        "start=time.perf_counter()\n",
        "findMinMax(arr,500)\n",
        "end= time.perf_counter()\n",
        "timetaken=end-start\n",
        "print(timetaken)\n",
        "bruteforce[3]=timetaken"
      ],
      "metadata": {
        "colab": {
          "base_uri": "https://localhost:8080/"
        },
        "id": "zUp9-zE6_tmD",
        "outputId": "b123dd91-771e-47ff-fcdf-f4c240bd369a"
      },
      "execution_count": 59,
      "outputs": [
        {
          "output_type": "stream",
          "name": "stdout",
          "text": [
            "the maximum element is 2044.0  and minimum element is  1.62\n",
            "the time complexity of brute force algorithm is \n",
            "0.00020742099991366558\n"
          ]
        }
      ]
    },
    {
      "cell_type": "code",
      "source": [
        "#using divide and conquer\n",
        "arr2=findMinMaxnew(arr,0,a-1)\n",
        "print(\"the maximum element is\",arr2[0],\" and minimum element is \",arr2[1])\n",
        "print(\"the time complexity of divide and conquer algorithm is \")\n",
        "import time\n",
        "start=time.perf_counter()\n",
        "findMinMaxnew(arr,0,a-1)\n",
        "end= time.perf_counter()\n",
        "timetaken=end-start\n",
        "print(timetaken)\n",
        "dandc[3]=timetaken"
      ],
      "metadata": {
        "colab": {
          "base_uri": "https://localhost:8080/"
        },
        "id": "vPzBOmGj_0D9",
        "outputId": "eef513ac-9272-4677-be83-f50459fb3368"
      },
      "execution_count": 60,
      "outputs": [
        {
          "output_type": "stream",
          "name": "stdout",
          "text": [
            "the maximum element is 2044.0  and minimum element is  1.62\n",
            "the time complexity of divide and conquer algorithm is \n",
            "0.44398223300004247\n"
          ]
        }
      ]
    },
    {
      "cell_type": "code",
      "source": [],
      "metadata": {
        "id": "z-GUU99BASO4"
      },
      "execution_count": null,
      "outputs": []
    },
    {
      "cell_type": "markdown",
      "source": [
        "for fifth csv file-test4.csv"
      ],
      "metadata": {
        "id": "XY-2Re48AYdc"
      }
    },
    {
      "cell_type": "code",
      "source": [
        "df = pd.read_csv('test4.csv')\n",
        "second_column_values = df.iloc[:, 10].values\n",
        "print(second_column_values)"
      ],
      "metadata": {
        "colab": {
          "base_uri": "https://localhost:8080/"
        },
        "id": "skDLbTGOAz_4",
        "outputId": "b74a9246-1367-4c0a-c65c-463fa27756ba"
      },
      "execution_count": 64,
      "outputs": [
        {
          "output_type": "stream",
          "name": "stdout",
          "text": [
            "[1.2600000e-01 1.2600000e-01 1.2600000e-01 ... 1.5736835e+04 1.5818731e+04\n",
            " 1.5837284e+04]\n"
          ]
        }
      ]
    },
    {
      "cell_type": "code",
      "source": [
        "arr=np.array(second_column_values)\n",
        "print(arr)\n",
        "a=len(arr)\n",
        "print(a)"
      ],
      "metadata": {
        "colab": {
          "base_uri": "https://localhost:8080/"
        },
        "id": "oMdV5x3PCxHt",
        "outputId": "0898e072-d8f0-4345-bb79-99737769d9e3"
      },
      "execution_count": 65,
      "outputs": [
        {
          "output_type": "stream",
          "name": "stdout",
          "text": [
            "[1.2600000e-01 1.2600000e-01 1.2600000e-01 ... 1.5736835e+04 1.5818731e+04\n",
            " 1.5837284e+04]\n",
            "166326\n"
          ]
        }
      ]
    },
    {
      "cell_type": "code",
      "source": [
        "#using bruteforce\n",
        "arr1=findMinMax(arr,a)\n",
        "print(\"the maximum element is\",arr1[0],\" and minimum element is \",arr1[1])\n",
        "print(\"the time complexity of brute force algorithm is \")\n",
        "import time\n",
        "start=time.perf_counter()\n",
        "findMinMax(arr,500)\n",
        "end= time.perf_counter()\n",
        "timetaken=end-start\n",
        "print(timetaken)\n",
        "bruteforce[4]=timetaken"
      ],
      "metadata": {
        "colab": {
          "base_uri": "https://localhost:8080/"
        },
        "id": "htXLi7gkDwRH",
        "outputId": "b0920ff3-11d6-4bbb-f931-c14c2c82c338"
      },
      "execution_count": 66,
      "outputs": [
        {
          "output_type": "stream",
          "name": "stdout",
          "text": [
            "the maximum element is 706541.904  and minimum element is  0.001\n",
            "the time complexity of brute force algorithm is \n",
            "0.00019895499963240582\n"
          ]
        }
      ]
    },
    {
      "cell_type": "code",
      "source": [
        "#using divide and conquer\n",
        "arr2=findMinMaxnew(arr,0,a-1)\n",
        "print(\"the maximum element is\",arr2[0],\" and minimum element is \",arr2[1])\n",
        "print(\"the time complexity of divide and conquer algorithm is \")\n",
        "import time\n",
        "start=time.perf_counter()\n",
        "findMinMaxnew(arr,0,a-1)\n",
        "end= time.perf_counter()\n",
        "timetaken=end-start\n",
        "print(timetaken)\n",
        "dandc[4]=timetaken"
      ],
      "metadata": {
        "colab": {
          "base_uri": "https://localhost:8080/"
        },
        "id": "W3PylhcQDzln",
        "outputId": "5009459d-2c77-497f-fd5d-3844dd28948d"
      },
      "execution_count": 67,
      "outputs": [
        {
          "output_type": "stream",
          "name": "stdout",
          "text": [
            "the maximum element is 706541.904  and minimum element is  0.001\n",
            "the time complexity of divide and conquer algorithm is \n",
            "0.12416197900029147\n"
          ]
        }
      ]
    },
    {
      "cell_type": "code",
      "source": [
        "\n",
        "print(bruteforce+1)\n",
        "print(dandc+1)"
      ],
      "metadata": {
        "colab": {
          "base_uri": "https://localhost:8080/"
        },
        "id": "xLwsP6m7D2zv",
        "outputId": "2d373599-0bca-4572-b1f5-5d9bf92c33e0"
      },
      "execution_count": 73,
      "outputs": [
        {
          "output_type": "stream",
          "name": "stdout",
          "text": [
            "[1 1 1 1 1]\n",
            "[1 1 1 1 1]\n"
          ]
        }
      ]
    },
    {
      "cell_type": "code",
      "source": [
        "#since the values are so small python is notdisplaying such short values"
      ],
      "metadata": {
        "id": "x1oWEelHD_U5"
      },
      "execution_count": null,
      "outputs": []
    }
  ]
}